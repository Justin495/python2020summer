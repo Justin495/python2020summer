{
 "cells": [
  {
   "cell_type": "markdown",
   "metadata": {},
   "source": [
    "# Question 1"
   ]
  },
  {
   "cell_type": "code",
   "execution_count": 3,
   "metadata": {},
   "outputs": [
    {
     "name": "stdout",
     "output_type": "stream",
     "text": [
      "Total seconds:  2562\n"
     ]
    }
   ],
   "source": [
    "m = 42\n",
    "s = 42\n",
    "\n",
    "print('Total seconds: ', (m*60)+s)\n"
   ]
  },
  {
   "cell_type": "markdown",
   "metadata": {},
   "source": [
    "# Question 2"
   ]
  },
  {
   "cell_type": "code",
   "execution_count": 4,
   "metadata": {},
   "outputs": [
    {
     "name": "stdout",
     "output_type": "stream",
     "text": [
      "Total miles: 16.1\n"
     ]
    }
   ],
   "source": [
    "km = 10\n",
    "mi = 1.61*km\n",
    "print('Total miles:', mi)"
   ]
  },
  {
   "cell_type": "markdown",
   "metadata": {},
   "source": [
    "# Question 3"
   ]
  },
  {
   "cell_type": "code",
   "execution_count": 5,
   "metadata": {},
   "outputs": [
    {
     "name": "stdout",
     "output_type": "stream",
     "text": [
      "Average speed in mph:  22.62\n"
     ]
    }
   ],
   "source": [
    "km = 10\n",
    "mi = 1.61*km\n",
    "m = 42\n",
    "s = 42\n",
    "hr = (s/60+m)/60\n",
    "print('Average speed in mph: ', round(mi/hr, 2))"
   ]
  },
  {
   "cell_type": "markdown",
   "metadata": {},
   "source": [
    "# Question 4"
   ]
  },
  {
   "cell_type": "markdown",
   "metadata": {},
   "source": [
    "## Radian to Degree Converter"
   ]
  },
  {
   "cell_type": "code",
   "execution_count": 15,
   "metadata": {},
   "outputs": [
    {
     "name": "stdout",
     "output_type": "stream",
     "text": [
      "Enter radians: 1.1\n",
      "63.03\n"
     ]
    }
   ],
   "source": [
    "import math\n",
    "\n",
    "rad = float(input('Enter radians: '))\n",
    "degree = rad*(180/math.pi)\n",
    "print(round(degree, 2))"
   ]
  },
  {
   "cell_type": "markdown",
   "metadata": {},
   "source": [
    "# Question 5"
   ]
  },
  {
   "cell_type": "markdown",
   "metadata": {},
   "source": [
    "## Cylinder Surface Area and Volume Calculator"
   ]
  },
  {
   "cell_type": "code",
   "execution_count": 8,
   "metadata": {},
   "outputs": [
    {
     "name": "stdout",
     "output_type": "stream",
     "text": [
      "Enter Cylinder Height: 4\n",
      "Enter Cylinder Radius: 6\n",
      "Surface Area:  376.99\n",
      "Volume:  452.39\n"
     ]
    }
   ],
   "source": [
    "import math \n",
    "\n",
    "h = float(input('Enter Cylinder Height: '))\n",
    "r = float(input('Enter Cylinder Radius: '))\n",
    "SA = ((2*math.pi*r*4)+(2*(math.pi*r**2)))\n",
    "V = (4*(math.pi*r**2))\n",
    "print('Surface Area: ', round(SA, 2))\n",
    "print('Volume: ', round(V, 2))\n"
   ]
  },
  {
   "cell_type": "markdown",
   "metadata": {},
   "source": [
    "# Question 6"
   ]
  },
  {
   "cell_type": "markdown",
   "metadata": {},
   "source": [
    "## Distance Between Two Points of Latitude and Longitude"
   ]
  },
  {
   "cell_type": "code",
   "execution_count": 10,
   "metadata": {},
   "outputs": [
    {
     "name": "stdout",
     "output_type": "stream",
     "text": [
      "Enter Point \"A\" Latitude: 50\n",
      "Enter Point \"A\" Longitude: 5\n",
      "Enter Point \"B\" Latitude: 51\n",
      "Enter Point \"B\" Longitude: 5\n",
      "\n",
      "Distance between two points in km:  111\n"
     ]
    }
   ],
   "source": [
    "latA = float(input('Enter Point \\\"A\\\" Latitude: '))\n",
    "lonA = float(input('Enter Point \\\"A\\\" Longitude: '))\n",
    "latB = float(input('Enter Point \\\"B\\\" Latitude: '))\n",
    "lonB = float(input('Enter Point \\\"B\\\" Longitude: '))\n",
    "latDif = (latA-latB)*math.pi/180\n",
    "lonDif = (lonA-lonB)*math.pi/180\n",
    "R = 6371\n",
    "a = math.sin(latDif/2)*math.sin(latDif/2)+math.cos(latA*math.pi/180)*math.cos(latB*math.pi/180)*math.sin(lonDif/2)*math.sin(lonDif/2)\n",
    "c = 2*math.atan2(math.sqrt(a), math.sqrt(1-a))\n",
    "dist = R*c\n",
    "\n",
    "print('\\nDistance between two points in km: ', round(dist))\n"
   ]
  },
  {
   "cell_type": "markdown",
   "metadata": {},
   "source": [
    "# Question 7"
   ]
  },
  {
   "cell_type": "code",
   "execution_count": 11,
   "metadata": {},
   "outputs": [
    {
     "name": "stdout",
     "output_type": "stream",
     "text": [
      "  ____  \n",
      " /    \\\n",
      "/      \\\n",
      "| STOP |\n",
      "\\      /\n",
      " \\____/\n"
     ]
    }
   ],
   "source": [
    "print('  ____  ')\n",
    "print(' /    \\\\')\n",
    "print('/      \\\\')\n",
    "print('| STOP |')\n",
    "print('\\\\      /')\n",
    "print(' \\\\____/')\n"
   ]
  },
  {
   "cell_type": "code",
   "execution_count": null,
   "metadata": {},
   "outputs": [],
   "source": []
  }
 ],
 "metadata": {
  "kernelspec": {
   "display_name": "Python 3",
   "language": "python",
   "name": "python3"
  },
  "language_info": {
   "codemirror_mode": {
    "name": "ipython",
    "version": 3
   },
   "file_extension": ".py",
   "mimetype": "text/x-python",
   "name": "python",
   "nbconvert_exporter": "python",
   "pygments_lexer": "ipython3",
   "version": "3.7.6"
  }
 },
 "nbformat": 4,
 "nbformat_minor": 4
}
