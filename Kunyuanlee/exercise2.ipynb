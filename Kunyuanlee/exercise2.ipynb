{
 "cells": [
  {
   "cell_type": "markdown",
   "metadata": {},
   "source": [
    "Exercise 1\n",
    "Write a python function that takes a list of words and returns the length of the longest one."
   ]
  },
  {
   "cell_type": "code",
   "execution_count": 3,
   "metadata": {},
   "outputs": [
    {
     "name": "stdout",
     "output_type": "stream",
     "text": [
      "Enter a list number separated by space: abc jaoson Leo \n",
      "User in put list ['abc', 'jaoson', 'Leo']\n",
      "jaoson\n"
     ]
    }
   ],
   "source": [
    "User_input = input(\"Enter a list number separated by space: \")\n",
    "UserList = User_input.split()\n",
    "print(\"User in put list\", UserList)   #Verfied the user input \n",
    "\n",
    "Longest_String = max(UserList, key = len)\n",
    "print(Longest_String)\n",
    "\n",
    "    \n"
   ]
  },
  {
   "cell_type": "markdown",
   "metadata": {},
   "source": [
    "Exercise 2 Write a python program to count the number of unique characters in a string\n"
   ]
  },
  {
   "cell_type": "code",
   "execution_count": 21,
   "metadata": {},
   "outputs": [
    {
     "name": "stdout",
     "output_type": "stream",
     "text": [
      "Enter a String: yellow\n",
      "The number of unique string :  5\n"
     ]
    }
   ],
   "source": [
    "Total_letter = \"ABCDEFGHIJKLMNOPQRSTUVWXYZabcdefghijklmnopqrstuvwxyz\"\n",
    "User_input_string = input(\"Enter a String: \")\n",
    "counter = 0 \n",
    "for word in Total_letter:\n",
    "    if word in User_input_string:\n",
    "        counter += 1\n",
    "print(\"The number of unique string : \", counter)\n"
   ]
  },
  {
   "cell_type": "markdown",
   "metadata": {},
   "source": [
    "Exercise 3 Write a Python program to sort (ascending and descending) a dictionary by value"
   ]
  },
  {
   "cell_type": "code",
   "execution_count": 64,
   "metadata": {},
   "outputs": [
    {
     "name": "stdout",
     "output_type": "stream",
     "text": [
      "dictionary by Ascending:  [3, 7, 9, 23, 33, 55]\n",
      "dictionary by Descending:  [55, 33, 23, 9, 7, 3]\n"
     ]
    }
   ],
   "source": [
    "\n",
    "dict = {0:3,1:55,2:7,3:9,4:33,5:23}\n",
    "\n",
    "SortValuesAsecnding = sorted(dict.values())\n",
    "SortValuesDesending = sorted(dict.values(), reverse = True )\n",
    "\n",
    "print(\"dictionary by Ascending: \", SortValuesAsecnding)\n",
    "print(\"dictionary by Descending: \", SortValuesDesending)\n"
   ]
  },
  {
   "cell_type": "markdown",
   "metadata": {},
   "source": [
    "Exercise 4 Write a Python program to change a given string to a new String where the first and last chars have been exchanged.\n"
   ]
  },
  {
   "cell_type": "code",
   "execution_count": 71,
   "metadata": {},
   "outputs": [
    {
     "name": "stdout",
     "output_type": "stream",
     "text": [
      "eafjoaiejie\n"
     ]
    }
   ],
   "source": [
    "def change_string(str):\n",
    "    return str[-1:] + str[1:-1]+ str[:1]\n",
    "\n",
    "print(change_string('eafjoaiejie'))"
   ]
  },
  {
   "cell_type": "markdown",
   "metadata": {},
   "source": [
    "Exercise 5 Write a Python function that take two lists and returns True if they have at least one common member"
   ]
  },
  {
   "cell_type": "code",
   "execution_count": 82,
   "metadata": {},
   "outputs": [
    {
     "name": "stdout",
     "output_type": "stream",
     "text": [
      "None\n"
     ]
    }
   ],
   "source": [
    "def commonlist(listA, listB):\n",
    "    result = False\n",
    "    for x in listA:\n",
    "        for y in listB:\n",
    "            if x == y:\n",
    "                result = True \n",
    "                return result\n",
    "        \n",
    "print(commonlist([0,1,2,5,7,9,33],[21,51,19,42,16,19,12,55]))        \n",
    "    "
   ]
  },
  {
   "cell_type": "markdown",
   "metadata": {},
   "source": [
    "Exercise 6 Write a Python function that return the minimum number of conins ($0.01, $0.1, $0.25, $1) that make a given value\n"
   ]
  },
  {
   "cell_type": "code",
   "execution_count": 78,
   "metadata": {},
   "outputs": [
    {
     "name": "stdout",
     "output_type": "stream",
     "text": [
      "Enter a money value: 32.57\n",
      "The minimum coins require are 41\n"
     ]
    }
   ],
   "source": [
    "User_input = float(input(\"Enter a money value: \"))\n",
    "\n",
    "\n",
    "def coincount(Total, coins = [.01, .1, .25, 1.0 ]):\n",
    "    flag = None\n",
    "    for c in coins:\n",
    "        if c == Total: return c\n",
    "        if c < Total:\n",
    "            flag = c\n",
    "    temp_bal = round(Total-flag, 2)\n",
    "    return [flag] + [coincount(temp_bal)]\n",
    "\n",
    "Answer = coincount(User_input)\n",
    "\n",
    "def flatten(L):\n",
    "        for item in L:\n",
    "            try:\n",
    "                yield from flatten(item)\n",
    "            except TypeError:\n",
    "                    yield item\n",
    "\n",
    "a =(list(flatten(Answer)))\n",
    "print ('The minimum coins require are',len(a))\n",
    "\n"
   ]
  },
  {
   "cell_type": "code",
   "execution_count": null,
   "metadata": {},
   "outputs": [],
   "source": []
  }
 ],
 "metadata": {
  "kernelspec": {
   "display_name": "Python 3",
   "language": "python",
   "name": "python3"
  },
  "language_info": {
   "codemirror_mode": {
    "name": "ipython",
    "version": 3
   },
   "file_extension": ".py",
   "mimetype": "text/x-python",
   "name": "python",
   "nbconvert_exporter": "python",
   "pygments_lexer": "ipython3",
   "version": "3.7.6"
  }
 },
 "nbformat": 4,
 "nbformat_minor": 4
}
