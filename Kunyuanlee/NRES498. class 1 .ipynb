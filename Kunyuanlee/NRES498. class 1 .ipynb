{
 "cells": [
  {
   "cell_type": "code",
   "execution_count": 4,
   "metadata": {},
   "outputs": [],
   "source": [
    "import math"
   ]
  },
  {
   "cell_type": "code",
   "execution_count": 12,
   "metadata": {},
   "outputs": [
    {
     "name": "stdout",
     "output_type": "stream",
     "text": [
      "5 + 2 = 7\n",
      "5 - 2 = 3\n",
      "5 * 2 = 10\n",
      "5 / 2 = 2.5\n",
      "5 % 2 = 1\n",
      "5 ** 2 = 25\n",
      "5 // 2 = 2\n"
     ]
    }
   ],
   "source": [
    "print(\"5 + 2 =\", 5 + 2)   #plus\n",
    "print(\"5 - 2 =\", 5 - 2)   #subtract\n",
    "print(\"5 * 2 =\", 5 * 2)   #multipcation \n",
    "print(\"5 / 2 =\", 5 / 2)   #divison \n",
    "print(\"5 % 2 =\", 5 % 2)   #\n",
    "print(\"5 ** 2 =\", 5 ** 2) #expon\n",
    "print(\"5 // 2 =\", 5 // 2)"
   ]
  },
  {
   "cell_type": "code",
   "execution_count": 9,
   "metadata": {},
   "outputs": [
    {
     "name": "stdout",
     "output_type": "stream",
     "text": [
      "42 minutes 42 second =  2562 seconds \n",
      "10 kilometers =  6.211180124223602 miles\n",
      "The average pace = 6.0 minute 52.48200000000003 second\n",
      "The average speed = 8.727653570337614 mph\n",
      "==========================================================\n",
      "Enter the raidan value you want to convert to degree40\n",
      "Radian value:  40\n",
      "Degree value:  2291.831180523293\n"
     ]
    }
   ],
   "source": [
    "\n",
    "import numpy as np\n",
    "import math\n",
    "#exercise 1\n",
    "#How many seconds are there in 42 minutes 42 seconds?\n",
    "print('42 minutes 42 second = ', 60*42+42, 'seconds ')\n",
    "#How many miles are there in 10 Kilometers\n",
    "print('10 kilometers = ', 10/1.61,'miles')\n",
    "#If you run a 10 kilometer race in 42 minutes 42 seconds, what is your average pace?\n",
    "#(time per mile in minute and second)\n",
    "Ttotal = 60*42+42\n",
    "Tmile = 10/1.61\n",
    "Totsec = Ttotal/Tmile  #pace in second\n",
    "Tmin = Totsec//60\n",
    "Tsec = Totsec%60\n",
    "print('The average pace =', Tmin, 'minute', Tsec, 'second' )\n",
    "Tspeed = Tmile/Ttotal*3600\n",
    "print('The average speed =', Tspeed, 'mph')\n",
    "#convert radian to degree\n",
    "print('==========================================================')\n",
    "Value = int(input('Enter the raidan value you want to convert to degree'))\n",
    "print(\"Radian value: \", Value)\n",
    "Out_V = np.degrees(Value)\n",
    "print(\"Degree value: \", Out_V)"
   ]
  },
  {
   "cell_type": "code",
   "execution_count": 13,
   "metadata": {},
   "outputs": [],
   "source": [
    "r = 6\n",
    "h = 4\n",
    "Sufarea = 2*math.pi*r*h+2*math.pi*r**2\n"
   ]
  },
  {
   "cell_type": "code",
   "execution_count": 14,
   "metadata": {},
   "outputs": [
    {
     "data": {
      "text/plain": [
       "376.99111843077515"
      ]
     },
     "execution_count": 14,
     "metadata": {},
     "output_type": "execute_result"
    }
   ],
   "source": [
    "Sufarea"
   ]
  },
  {
   "cell_type": "code",
   "execution_count": 25,
   "metadata": {},
   "outputs": [
    {
     "data": {
      "text/plain": [
       "1.266103672779499"
      ]
     },
     "execution_count": 25,
     "metadata": {},
     "output_type": "execute_result"
    }
   ],
   "source": [
    "import math\n",
    "math.acos(000.3)"
   ]
  },
  {
   "cell_type": "code",
   "execution_count": 33,
   "metadata": {},
   "outputs": [
    {
     "name": "stdout",
     "output_type": "stream",
     "text": [
      "2.0043678382716137 Kilometer\n"
     ]
    }
   ],
   "source": [
    "# Python 3 program to calculate Distance Between Two Points on Earth \n",
    "from math import radians, cos, sin, asin, sqrt \n",
    "def distance(lat1, lat2, lon1, lon2): \n",
    "\t\n",
    "\t# The math module contains a function named \n",
    "\t# radians which converts from degrees to radians. \n",
    "\tlon1 = radians(lon1) \n",
    "\tlon2 = radians(lon2) \n",
    "\tlat1 = radians(lat1) \n",
    "\tlat2 = radians(lat2) \n",
    "\t\n",
    "\t# Haversine formula \n",
    "\tdlon = lon2 - lon1 \n",
    "\tdlat = lat2 - lat1 \n",
    "\ta = sin(dlat / 2)**2 + cos(lat1) * cos(lat2) * sin(dlon / 2)**2\n",
    "\n",
    "\tc = 2 * asin(sqrt(a)) \n",
    "\t\n",
    "\t# Radius of earth in kilometers. Use 3956 for miles \n",
    "\tr = 6371\n",
    "\t\n",
    "\t# calculate the result \n",
    "\treturn(c * r) \n",
    "\t\n",
    "\t\n",
    "# driver code \n",
    "lat1 = 53.32055555555556\n",
    "lat2 = 53.31861111111111\n",
    "lon1 = -1.7297222222222221\n",
    "lon2 = -1.6997222222222223\n",
    "print(distance(lat1, lat2, lon1, lon2), \"Kilometer\") \n"
   ]
  },
  {
   "cell_type": "code",
   "execution_count": 32,
   "metadata": {},
   "outputs": [
    {
     "name": "stdout",
     "output_type": "stream",
     "text": [
      "  -------\n",
      " /       \\ \n",
      "/         \\ \n",
      "|   STOP  |\n",
      "\\         /\n",
      " \\       /\n",
      "  ------\n"
     ]
    }
   ],
   "source": [
    "print('  -------')\n",
    "print(' /       \\ ')\n",
    "print('/         \\ ')\n",
    "print('|   STOP  |')\n",
    "print('\\         /')\n",
    "print(' \\       /')\n",
    "print('  ------')"
   ]
  },
  {
   "cell_type": "code",
   "execution_count": null,
   "metadata": {},
   "outputs": [],
   "source": []
  }
 ],
 "metadata": {
  "kernelspec": {
   "display_name": "Python 3",
   "language": "python",
   "name": "python3"
  },
  "language_info": {
   "codemirror_mode": {
    "name": "ipython",
    "version": 3
   },
   "file_extension": ".py",
   "mimetype": "text/x-python",
   "name": "python",
   "nbconvert_exporter": "python",
   "pygments_lexer": "ipython3",
   "version": "3.7.6"
  }
 },
 "nbformat": 4,
 "nbformat_minor": 4
}
