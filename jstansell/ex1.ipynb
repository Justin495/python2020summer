{
 "cells": [
  {
   "cell_type": "markdown",
   "metadata": {},
   "source": [
    "# Exercise Set 1\n",
    "**Jackson S. Stansell** completed for\n",
    "**NRES 898**"
   ]
  },
  {
   "cell_type": "markdown",
   "metadata": {},
   "source": [
    "**Exercise 1**"
   ]
  },
  {
   "cell_type": "code",
   "execution_count": 2,
   "metadata": {},
   "outputs": [
    {
     "name": "stdout",
     "output_type": "stream",
     "text": [
      "There are 2562 seconds in 42 minutes and 42 seconds\n"
     ]
    }
   ],
   "source": [
    "seconds = 42*60 + 42\n",
    "print('There are', seconds,'seconds in 42 minutes and 42 seconds')"
   ]
  },
  {
   "cell_type": "markdown",
   "metadata": {},
   "source": [
    "**Exercise 2**"
   ]
  },
  {
   "cell_type": "code",
   "execution_count": 3,
   "metadata": {},
   "outputs": [
    {
     "name": "stdout",
     "output_type": "stream",
     "text": [
      "There are 6.211180124223602 in 10 kilometers.\n"
     ]
    }
   ],
   "source": [
    "miles = 10/1.61\n",
    "print('There are', miles, 'in 10 kilometers.')"
   ]
  },
  {
   "cell_type": "markdown",
   "metadata": {},
   "source": [
    "**Exercise 3**"
   ]
  },
  {
   "cell_type": "code",
   "execution_count": 9,
   "metadata": {},
   "outputs": [
    {
     "name": "stdout",
     "output_type": "stream",
     "text": [
      "Your average pace is 7 minutes and 7 seconds per mile.\n",
      "Your average speed is 8.73 miles per hour.\n"
     ]
    }
   ],
   "source": [
    "import math\n",
    "miles = 10/1.61\n",
    "minutes = 42\n",
    "seconds = 42\n",
    "pace_min = round(minutes/miles)\n",
    "pace_sec = round(seconds/miles)\n",
    "print('Your average pace is',pace_min,'minutes and',pace_sec,'seconds per mile.')\n",
    "\n",
    "hours = minutes/60 + seconds/3600\n",
    "speed = round(miles/hours,2)\n",
    "print('Your average speed is',speed,'miles per hour.')"
   ]
  },
  {
   "cell_type": "markdown",
   "metadata": {},
   "source": [
    "**Exercise 4**"
   ]
  },
  {
   "cell_type": "code",
   "execution_count": 13,
   "metadata": {},
   "outputs": [
    {
     "name": "stdout",
     "output_type": "stream",
     "text": [
      "3.14 is equal to 179.91 degrees.\n"
     ]
    }
   ],
   "source": [
    "import math\n",
    "rads = float(input('Please enter the radians value.'))\n",
    "degrees = round(rads * (180/math.pi),2)\n",
    "print(rads,'is equal to',degrees,'degrees.')"
   ]
  },
  {
   "cell_type": "markdown",
   "metadata": {},
   "source": [
    "**Exercise 5**"
   ]
  },
  {
   "cell_type": "code",
   "execution_count": 16,
   "metadata": {},
   "outputs": [
    {
     "name": "stdout",
     "output_type": "stream",
     "text": [
      "The surface area of the cylinder is 376.99 inches and the volume of the cylinder is 904.78 square inches.\n"
     ]
    }
   ],
   "source": [
    "h = 4\n",
    "r = 6\n",
    "surface_area = round(2*r*math.pi*h + 2*r**2*math.pi,2)\n",
    "volume = round(2*r**2*math.pi*h,2)\n",
    "\n",
    "print('The surface area of the cylinder is',surface_area,'inches and the volume of the cylinder is',volume,'square inches.')"
   ]
  },
  {
   "cell_type": "markdown",
   "metadata": {},
   "source": [
    "**Exercise 6**"
   ]
  },
  {
   "cell_type": "code",
   "execution_count": 23,
   "metadata": {},
   "outputs": [
    {
     "name": "stdout",
     "output_type": "stream",
     "text": [
      "The distance between the origin and the destination is 905.09 miles.\n"
     ]
    }
   ],
   "source": [
    "# Based on the haversine formula as specified @ https://www.movable-type.co.uk/scripts/latlong.html or https://en.wikipedia.org/wiki/Haversine_formula \n",
    "\n",
    "lat_1 = float(input('Enter the latitude coordinate for point 1: '))\n",
    "lon_1 = float(input('Enter the longitude coordinate for point 1: '))\n",
    "\n",
    "lat_2 = float(input('Enter the latitude coordinate for point 2: '))\n",
    "lon_2 = float(input('Enter the longitude coordinate for point 2: '))\n",
    "\n",
    "lat_1_rads = math.radians(lat_1)\n",
    "lon_1_rads = math.radians(lon_1)\n",
    "\n",
    "lat_2_rads = math.radians(lat_2)\n",
    "lon_2_rads = math.radians(lon_2)\n",
    "\n",
    "a = math.sin((lat_2_rads - lat_1_rads)/2)*math.sin((lat_2_rads - lat_1_rads)/2) + math.cos(lat_1_rads)*math.cos(lat_2_rads)*math.sin((lon_2_rads - lon_1_rads)/2)*math.sin((lon_2_rads - lon_1_rads)/2)\n",
    "c = 2*math.asin(math.sqrt(a))\n",
    "R_km = 6371\n",
    "R_miles = R_km/1.61\n",
    "distance_mi = round(R_miles*c,2)\n",
    "#distance_km = distance_meters/1000\n",
    "#distance_mi = round(distance_km/1.61,2)\n",
    "\n",
    "print('The distance between the origin and the destination is',distance_mi,'miles.')"
   ]
  },
  {
   "cell_type": "markdown",
   "metadata": {},
   "source": [
    "**Exercise 7**"
   ]
  },
  {
   "cell_type": "code",
   "execution_count": 38,
   "metadata": {},
   "outputs": [
    {
     "name": "stdout",
     "output_type": "stream",
     "text": [
      "Stopsign:\n",
      "   __   \n",
      "  /  \\  \n",
      " /    \\ \n",
      "| STOP |\n",
      " \\    / \n",
      "  \\__/  \n"
     ]
    }
   ],
   "source": [
    "print('Stopsign:' + '\\n   __   ' + '\\n  /  \\  ' + '\\n /    \\ ' + '\\n| STOP |' + '\\n \\    / ' + '\\n  \\__/  ')\n"
   ]
  }
 ],
 "metadata": {
  "kernelspec": {
   "display_name": "Python 3",
   "language": "python",
   "name": "python3"
  },
  "language_info": {
   "codemirror_mode": {
    "name": "ipython",
    "version": 3
   },
   "file_extension": ".py",
   "mimetype": "text/x-python",
   "name": "python",
   "nbconvert_exporter": "python",
   "pygments_lexer": "ipython3",
   "version": "3.7.6"
  }
 },
 "nbformat": 4,
 "nbformat_minor": 2
}